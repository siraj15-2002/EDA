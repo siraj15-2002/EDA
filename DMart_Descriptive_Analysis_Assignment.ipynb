{
 "cells": [
  {
   "cell_type": "markdown",
   "id": "03cc280c",
   "metadata": {},
   "source": [
    "# Descriptive Statistical Analysis of DMart Sales Data"
   ]
  },
  {
   "cell_type": "markdown",
   "id": "61c386b7",
   "metadata": {},
   "source": [
    "**Date:** 2025-04-30\n",
    "\n",
    "**Objective:** Explore and analyze the DMart sales dataset using descriptive statistics and visualization techniques."
   ]
  },
  {
   "cell_type": "markdown",
   "id": "9dc73074",
   "metadata": {},
   "source": [
    "## Task 1: Load and Preview the Dataset"
   ]
  },
  {
   "cell_type": "code",
   "execution_count": 1,
   "id": "247240b2-6a7a-47dd-9813-b04837a5d436",
   "metadata": {},
   "outputs": [],
   "source": [
    "import numpy as np\n",
    "import pandas as pd\n",
    "import matplotlib.pyplot as plt\n",
    "import seaborn as sns \n",
    "import Omkar_statistics as os\n"
   ]
  },
  {
   "cell_type": "code",
   "execution_count": 2,
   "id": "2e9f4a08-fb66-4b71-8f24-ba6ed550ab71",
   "metadata": {},
   "outputs": [],
   "source": [
    "df = pd.read_csv(\"dmart .csv\")"
   ]
  },
  {
   "cell_type": "code",
   "execution_count": 3,
   "id": "601f84de-b3e2-419e-85e6-13a11430cd83",
   "metadata": {},
   "outputs": [
    {
     "data": {
      "text/html": [
       "<div>\n",
       "<style scoped>\n",
       "    .dataframe tbody tr th:only-of-type {\n",
       "        vertical-align: middle;\n",
       "    }\n",
       "\n",
       "    .dataframe tbody tr th {\n",
       "        vertical-align: top;\n",
       "    }\n",
       "\n",
       "    .dataframe thead th {\n",
       "        text-align: right;\n",
       "    }\n",
       "</style>\n",
       "<table border=\"1\" class=\"dataframe\">\n",
       "  <thead>\n",
       "    <tr style=\"text-align: right;\">\n",
       "      <th></th>\n",
       "      <th>Customer ID</th>\n",
       "      <th>Product ID</th>\n",
       "      <th>Order ID</th>\n",
       "      <th>Customer Age</th>\n",
       "      <th>Gender</th>\n",
       "      <th>Product Name</th>\n",
       "      <th>MRP</th>\n",
       "      <th>Discount Price</th>\n",
       "      <th>Category</th>\n",
       "      <th>State</th>\n",
       "      <th>...</th>\n",
       "      <th>Delivery Date</th>\n",
       "      <th>Cancellation Date</th>\n",
       "      <th>Payment Method</th>\n",
       "      <th>Pin Code</th>\n",
       "      <th>Total Order Value</th>\n",
       "      <th>Payment Status</th>\n",
       "      <th>No of Clicks</th>\n",
       "      <th>Year</th>\n",
       "      <th>Month</th>\n",
       "      <th>Shipping Charges</th>\n",
       "    </tr>\n",
       "  </thead>\n",
       "  <tbody>\n",
       "    <tr>\n",
       "      <th>0</th>\n",
       "      <td>YSB75</td>\n",
       "      <td>BW653</td>\n",
       "      <td>479577309</td>\n",
       "      <td>28</td>\n",
       "      <td>Female</td>\n",
       "      <td>Ariel Matic Top Load Liquid Detergent</td>\n",
       "      <td>977.44</td>\n",
       "      <td>909.02</td>\n",
       "      <td>Imported</td>\n",
       "      <td>Andhra Pradesh</td>\n",
       "      <td>...</td>\n",
       "      <td>13-05-2022</td>\n",
       "      <td>NaN</td>\n",
       "      <td>Credit</td>\n",
       "      <td>318324</td>\n",
       "      <td>909.02</td>\n",
       "      <td>Paid</td>\n",
       "      <td>29</td>\n",
       "      <td>2022</td>\n",
       "      <td>May</td>\n",
       "      <td>0</td>\n",
       "    </tr>\n",
       "    <tr>\n",
       "      <th>1</th>\n",
       "      <td>FUS93</td>\n",
       "      <td>XV061</td>\n",
       "      <td>634865221</td>\n",
       "      <td>47</td>\n",
       "      <td>Male</td>\n",
       "      <td>VSR Channa Dal</td>\n",
       "      <td>834.09</td>\n",
       "      <td>450.41</td>\n",
       "      <td>Branded</td>\n",
       "      <td>Telangana</td>\n",
       "      <td>...</td>\n",
       "      <td>20-08-2021</td>\n",
       "      <td>NaN</td>\n",
       "      <td>Debit</td>\n",
       "      <td>730162</td>\n",
       "      <td>450.41</td>\n",
       "      <td>Paid</td>\n",
       "      <td>95</td>\n",
       "      <td>2021</td>\n",
       "      <td>August</td>\n",
       "      <td>0</td>\n",
       "    </tr>\n",
       "    <tr>\n",
       "      <th>2</th>\n",
       "      <td>AJP28</td>\n",
       "      <td>GF695</td>\n",
       "      <td>113166210</td>\n",
       "      <td>63</td>\n",
       "      <td>Female</td>\n",
       "      <td>Tenali Double Horse Chana Dal</td>\n",
       "      <td>1095.20</td>\n",
       "      <td>1007.58</td>\n",
       "      <td>Branded</td>\n",
       "      <td>Gujarat</td>\n",
       "      <td>...</td>\n",
       "      <td>26-10-2021</td>\n",
       "      <td>NaN</td>\n",
       "      <td>Debit</td>\n",
       "      <td>694091</td>\n",
       "      <td>1007.58</td>\n",
       "      <td>Paid</td>\n",
       "      <td>51</td>\n",
       "      <td>2021</td>\n",
       "      <td>October</td>\n",
       "      <td>0</td>\n",
       "    </tr>\n",
       "    <tr>\n",
       "      <th>3</th>\n",
       "      <td>URC55</td>\n",
       "      <td>VM478</td>\n",
       "      <td>740539230</td>\n",
       "      <td>41</td>\n",
       "      <td>Male</td>\n",
       "      <td>Tata Tea</td>\n",
       "      <td>748.16</td>\n",
       "      <td>389.04</td>\n",
       "      <td>Imported</td>\n",
       "      <td>Maharashtra</td>\n",
       "      <td>...</td>\n",
       "      <td>27-08-2021</td>\n",
       "      <td>NaN</td>\n",
       "      <td>Credit</td>\n",
       "      <td>211807</td>\n",
       "      <td>489.04</td>\n",
       "      <td>Pending</td>\n",
       "      <td>12</td>\n",
       "      <td>2021</td>\n",
       "      <td>August</td>\n",
       "      <td>100</td>\n",
       "    </tr>\n",
       "    <tr>\n",
       "      <th>4</th>\n",
       "      <td>ZOP23</td>\n",
       "      <td>XD230</td>\n",
       "      <td>156544145</td>\n",
       "      <td>22</td>\n",
       "      <td>Female</td>\n",
       "      <td>VSR Channa Dal</td>\n",
       "      <td>1249.04</td>\n",
       "      <td>911.80</td>\n",
       "      <td>Local</td>\n",
       "      <td>Gujarat</td>\n",
       "      <td>...</td>\n",
       "      <td>10-12-2023</td>\n",
       "      <td>NaN</td>\n",
       "      <td>Credit</td>\n",
       "      <td>78304</td>\n",
       "      <td>1011.8</td>\n",
       "      <td>Paid</td>\n",
       "      <td>26</td>\n",
       "      <td>2023</td>\n",
       "      <td>December</td>\n",
       "      <td>100</td>\n",
       "    </tr>\n",
       "  </tbody>\n",
       "</table>\n",
       "<p>5 rows × 29 columns</p>\n",
       "</div>"
      ],
      "text/plain": [
       "  Customer ID Product ID   Order ID  Customer Age  Gender  \\\n",
       "0       YSB75      BW653  479577309            28  Female   \n",
       "1       FUS93      XV061  634865221            47    Male   \n",
       "2       AJP28      GF695  113166210            63  Female   \n",
       "3       URC55      VM478  740539230            41    Male   \n",
       "4       ZOP23      XD230  156544145            22  Female   \n",
       "\n",
       "                            Product Name      MRP  Discount Price  Category  \\\n",
       "0  Ariel Matic Top Load Liquid Detergent   977.44          909.02  Imported   \n",
       "1                         VSR Channa Dal   834.09          450.41   Branded   \n",
       "2          Tenali Double Horse Chana Dal  1095.20         1007.58   Branded   \n",
       "3                               Tata Tea   748.16          389.04  Imported   \n",
       "4                         VSR Channa Dal  1249.04          911.80     Local   \n",
       "\n",
       "            State  ... Delivery Date Cancellation Date  Payment Method  \\\n",
       "0  Andhra Pradesh  ...    13-05-2022               NaN          Credit   \n",
       "1       Telangana  ...    20-08-2021               NaN           Debit   \n",
       "2         Gujarat  ...    26-10-2021               NaN           Debit   \n",
       "3     Maharashtra  ...    27-08-2021               NaN          Credit   \n",
       "4         Gujarat  ...    10-12-2023               NaN          Credit   \n",
       "\n",
       "   Pin Code  Total Order Value Payment Status No of Clicks  Year     Month  \\\n",
       "0    318324             909.02           Paid           29  2022       May   \n",
       "1    730162             450.41           Paid           95  2021    August   \n",
       "2    694091            1007.58           Paid           51  2021   October   \n",
       "3    211807             489.04        Pending           12  2021    August   \n",
       "4     78304             1011.8           Paid           26  2023  December   \n",
       "\n",
       "  Shipping Charges  \n",
       "0                0  \n",
       "1                0  \n",
       "2                0  \n",
       "3              100  \n",
       "4              100  \n",
       "\n",
       "[5 rows x 29 columns]"
      ]
     },
     "execution_count": 3,
     "metadata": {},
     "output_type": "execute_result"
    }
   ],
   "source": [
    "df.head()"
   ]
  },
  {
   "cell_type": "markdown",
   "id": "1705aea0",
   "metadata": {},
   "source": [
    "## Task 2: Data Cleaning"
   ]
  },
  {
   "cell_type": "code",
   "execution_count": null,
   "id": "542548c8-56fb-4a52-ad66-d2f70542e45e",
   "metadata": {},
   "outputs": [],
   "source": []
  },
  {
   "cell_type": "markdown",
   "id": "bbd56c29",
   "metadata": {},
   "source": [
    "## Task 3: Descriptive Statistics"
   ]
  },
  {
   "cell_type": "code",
   "execution_count": 4,
   "id": "f6b55b1a-4a22-425c-8114-09007c47c5a7",
   "metadata": {},
   "outputs": [
    {
     "data": {
      "text/html": [
       "<div>\n",
       "<style scoped>\n",
       "    .dataframe tbody tr th:only-of-type {\n",
       "        vertical-align: middle;\n",
       "    }\n",
       "\n",
       "    .dataframe tbody tr th {\n",
       "        vertical-align: top;\n",
       "    }\n",
       "\n",
       "    .dataframe thead th {\n",
       "        text-align: right;\n",
       "    }\n",
       "</style>\n",
       "<table border=\"1\" class=\"dataframe\">\n",
       "  <thead>\n",
       "    <tr style=\"text-align: right;\">\n",
       "      <th></th>\n",
       "      <th>Order ID</th>\n",
       "      <th>Customer Age</th>\n",
       "      <th>MRP</th>\n",
       "      <th>Discount Price</th>\n",
       "      <th>Bill Number</th>\n",
       "      <th>Time Spent on Website</th>\n",
       "      <th>Rating</th>\n",
       "      <th>Pin Code</th>\n",
       "      <th>No of Clicks</th>\n",
       "      <th>Year</th>\n",
       "    </tr>\n",
       "  </thead>\n",
       "  <tbody>\n",
       "    <tr>\n",
       "      <th>count</th>\n",
       "      <td>2.500000e+04</td>\n",
       "      <td>25000.000000</td>\n",
       "      <td>25000.000000</td>\n",
       "      <td>25000.000000</td>\n",
       "      <td>2.500000e+04</td>\n",
       "      <td>25000.000000</td>\n",
       "      <td>25000.000000</td>\n",
       "      <td>25000.000000</td>\n",
       "      <td>25000.000000</td>\n",
       "      <td>25000.000000</td>\n",
       "    </tr>\n",
       "    <tr>\n",
       "      <th>mean</th>\n",
       "      <td>4.987130e+08</td>\n",
       "      <td>43.856600</td>\n",
       "      <td>1013.746646</td>\n",
       "      <td>735.621509</td>\n",
       "      <td>5.016695e+11</td>\n",
       "      <td>10.150932</td>\n",
       "      <td>3.008728</td>\n",
       "      <td>496731.079480</td>\n",
       "      <td>50.423040</td>\n",
       "      <td>2022.002200</td>\n",
       "    </tr>\n",
       "    <tr>\n",
       "      <th>std</th>\n",
       "      <td>2.881895e+08</td>\n",
       "      <td>15.285775</td>\n",
       "      <td>571.079711</td>\n",
       "      <td>441.362817</td>\n",
       "      <td>2.887202e+11</td>\n",
       "      <td>10.965989</td>\n",
       "      <td>1.159525</td>\n",
       "      <td>287726.921162</td>\n",
       "      <td>28.867925</td>\n",
       "      <td>0.816714</td>\n",
       "    </tr>\n",
       "    <tr>\n",
       "      <th>min</th>\n",
       "      <td>1.912800e+04</td>\n",
       "      <td>18.000000</td>\n",
       "      <td>20.040000</td>\n",
       "      <td>10.910000</td>\n",
       "      <td>2.349474e+07</td>\n",
       "      <td>1.000000</td>\n",
       "      <td>1.000000</td>\n",
       "      <td>5.000000</td>\n",
       "      <td>1.000000</td>\n",
       "      <td>2021.000000</td>\n",
       "    </tr>\n",
       "    <tr>\n",
       "      <th>25%</th>\n",
       "      <td>2.503746e+08</td>\n",
       "      <td>31.000000</td>\n",
       "      <td>523.995000</td>\n",
       "      <td>367.665000</td>\n",
       "      <td>2.540000e+11</td>\n",
       "      <td>2.980000</td>\n",
       "      <td>2.000000</td>\n",
       "      <td>247984.500000</td>\n",
       "      <td>26.000000</td>\n",
       "      <td>2021.000000</td>\n",
       "    </tr>\n",
       "    <tr>\n",
       "      <th>50%</th>\n",
       "      <td>4.997311e+08</td>\n",
       "      <td>44.000000</td>\n",
       "      <td>1014.415000</td>\n",
       "      <td>713.140000</td>\n",
       "      <td>5.020000e+11</td>\n",
       "      <td>5.000000</td>\n",
       "      <td>3.000000</td>\n",
       "      <td>495215.500000</td>\n",
       "      <td>50.000000</td>\n",
       "      <td>2022.000000</td>\n",
       "    </tr>\n",
       "    <tr>\n",
       "      <th>75%</th>\n",
       "      <td>7.471021e+08</td>\n",
       "      <td>57.000000</td>\n",
       "      <td>1506.812500</td>\n",
       "      <td>1061.347500</td>\n",
       "      <td>7.520000e+11</td>\n",
       "      <td>13.430000</td>\n",
       "      <td>4.000000</td>\n",
       "      <td>745846.250000</td>\n",
       "      <td>76.000000</td>\n",
       "      <td>2023.000000</td>\n",
       "    </tr>\n",
       "    <tr>\n",
       "      <th>max</th>\n",
       "      <td>9.999131e+08</td>\n",
       "      <td>70.000000</td>\n",
       "      <td>1999.920000</td>\n",
       "      <td>1876.220000</td>\n",
       "      <td>1.000000e+12</td>\n",
       "      <td>59.970000</td>\n",
       "      <td>5.000000</td>\n",
       "      <td>999997.000000</td>\n",
       "      <td>100.000000</td>\n",
       "      <td>2023.000000</td>\n",
       "    </tr>\n",
       "  </tbody>\n",
       "</table>\n",
       "</div>"
      ],
      "text/plain": [
       "           Order ID  Customer Age           MRP  Discount Price   Bill Number  \\\n",
       "count  2.500000e+04  25000.000000  25000.000000    25000.000000  2.500000e+04   \n",
       "mean   4.987130e+08     43.856600   1013.746646      735.621509  5.016695e+11   \n",
       "std    2.881895e+08     15.285775    571.079711      441.362817  2.887202e+11   \n",
       "min    1.912800e+04     18.000000     20.040000       10.910000  2.349474e+07   \n",
       "25%    2.503746e+08     31.000000    523.995000      367.665000  2.540000e+11   \n",
       "50%    4.997311e+08     44.000000   1014.415000      713.140000  5.020000e+11   \n",
       "75%    7.471021e+08     57.000000   1506.812500     1061.347500  7.520000e+11   \n",
       "max    9.999131e+08     70.000000   1999.920000     1876.220000  1.000000e+12   \n",
       "\n",
       "       Time Spent on Website        Rating       Pin Code  No of Clicks  \\\n",
       "count           25000.000000  25000.000000   25000.000000  25000.000000   \n",
       "mean               10.150932      3.008728  496731.079480     50.423040   \n",
       "std                10.965989      1.159525  287726.921162     28.867925   \n",
       "min                 1.000000      1.000000       5.000000      1.000000   \n",
       "25%                 2.980000      2.000000  247984.500000     26.000000   \n",
       "50%                 5.000000      3.000000  495215.500000     50.000000   \n",
       "75%                13.430000      4.000000  745846.250000     76.000000   \n",
       "max                59.970000      5.000000  999997.000000    100.000000   \n",
       "\n",
       "               Year  \n",
       "count  25000.000000  \n",
       "mean    2022.002200  \n",
       "std        0.816714  \n",
       "min     2021.000000  \n",
       "25%     2021.000000  \n",
       "50%     2022.000000  \n",
       "75%     2023.000000  \n",
       "max     2023.000000  "
      ]
     },
     "execution_count": 4,
     "metadata": {},
     "output_type": "execute_result"
    }
   ],
   "source": [
    "df.describe()"
   ]
  },
  {
   "cell_type": "code",
   "execution_count": 5,
   "id": "48fa8cbe-61db-4b9e-b310-db1c2112d17d",
   "metadata": {},
   "outputs": [
    {
     "name": "stdout",
     "output_type": "stream",
     "text": [
      "\n",
      "Total Sum 25343666.16\n",
      "Total Count 25000\n",
      "Minimum 20.04\n",
      "Maximum 1999.92\n",
      "Range 1979.88\n",
      "Average 1013.75\n",
      "Median 1014.42\n",
      "Mode ModeResult(mode=np.float64(1283.64), count=np.int64(4))\n",
      "Q1 523.995\n",
      "Q3 1506.8125\n",
      "IQR 982.8175\n",
      "Lower Whisker -950.2312499999999\n",
      "Upper Whisker 2981.0387499999997\n",
      "Variance 326118.99149625737\n",
      "Standard Deviation 571.0682896959499\n",
      "Skewness -0.011808230947642709\n",
      "Kurtosis -1.1914556188399679\n"
     ]
    }
   ],
   "source": [
    "os.cal_stats(\"\",df[\"MRP\"])"
   ]
  },
  {
   "cell_type": "markdown",
   "id": "6f938591",
   "metadata": {},
   "source": [
    "## Task 4: Visualizations"
   ]
  },
  {
   "cell_type": "code",
   "execution_count": 6,
   "id": "f40ff1e7-d1de-4426-ba15-2e92ce0fd746",
   "metadata": {},
   "outputs": [
    {
     "data": {
      "text/plain": [
       "<Axes: xlabel='count', ylabel='State'>"
      ]
     },
     "execution_count": 6,
     "metadata": {},
     "output_type": "execute_result"
    },
    {
     "data": {
      "image/png": "[encoded data removed]",
      "text/plain": [
       "<Figure size 640x480 with 1 Axes>"
      ]
     },
     "metadata": {},
     "output_type": "display_data"
    }
   ],
   "source": [
    "sns.countplot(data=df[\"State\"],palette=\"muted\")"
   ]
  },
  {
   "cell_type": "code",
   "execution_count": 7,
   "id": "24d7981b-4f3a-4870-99b2-b033f6a18858",
   "metadata": {},
   "outputs": [
    {
     "data": {
      "text/plain": [
       "Index(['Customer ID', 'Product ID', 'Order ID', 'Customer Age', 'Gender',\n",
       "       'Product Name', 'MRP', 'Discount Price', 'Category', 'State', 'City',\n",
       "       'Subscription', 'Bill Number', 'Time Spent on Website', 'Rating',\n",
       "       'Marketing/Advertisement', 'Ship Mode', 'Order Status', 'Order Date',\n",
       "       'Delivery Date', 'Cancellation Date', 'Payment Method', 'Pin Code',\n",
       "       'Total Order Value', 'Payment Status', 'No of Clicks', 'Year', 'Month',\n",
       "       'Shipping Charges'],\n",
       "      dtype='object')"
      ]
     },
     "execution_count": 7,
     "metadata": {},
     "output_type": "execute_result"
    }
   ],
   "source": [
    "df.columns"
   ]
  },
  {
   "cell_type": "code",
   "execution_count": 8,
   "id": "0ee6cf8d-1bbd-49ce-911b-6ccdf6093e0f",
   "metadata": {},
   "outputs": [
    {
     "data": {
      "text/plain": [
       "<Axes: xlabel='Payment Method', ylabel='count'>"
      ]
     },
     "execution_count": 8,
     "metadata": {},
     "output_type": "execute_result"
    },
    {
     "data": {
      "image/png": "[encoded data removed]",
      "text/plain": [
       "<Figure size 640x480 with 1 Axes>"
      ]
     },
     "metadata": {},
     "output_type": "display_data"
    }
   ],
   "source": [
    "sns.countplot(data=df,x=\"Payment Method\",palette=\"bright\")"
   ]
  },
  {
   "cell_type": "markdown",
   "id": "6b605582",
   "metadata": {},
   "source": [
    "## Task 5: Grouped Analysis"
   ]
  },
  {
   "cell_type": "code",
   "execution_count": 9,
   "id": "515fb2fb-2a1b-4694-91f0-3af826791550",
   "metadata": {},
   "outputs": [
    {
     "data": {
      "text/plain": [
       "Month\n",
       "August      1640102.59\n",
       "December    1578631.82\n",
       "November    1572997.56\n",
       "October     1570464.82\n",
       "March       1552649.36\n",
       "Name: Discount Price, dtype: float64"
      ]
     },
     "execution_count": 9,
     "metadata": {},
     "output_type": "execute_result"
    }
   ],
   "source": [
    "df.groupby(\"Month\")[\"Discount Price\"].sum().sort_values(ascending=False).head(5)"
   ]
  },
  {
   "cell_type": "code",
   "execution_count": 10,
   "id": "ac0a7ba0-5454-4ebc-abfb-2872d0693ce2",
   "metadata": {},
   "outputs": [
    {
     "data": {
      "text/plain": [
       "Product Name\n",
       "Parle Nutricrunch Digestive Cookies        119\n",
       "Tata Tea                                   117\n",
       "Usha Heavy Weight Iron - El3710: 1000 W    110\n",
       "Name: count, dtype: int64"
      ]
     },
     "execution_count": 10,
     "metadata": {},
     "output_type": "execute_result"
    }
   ],
   "source": [
    "df.groupby(\"Month\").get_group(\"August\")[\"Product Name\"].value_counts().head(3)"
   ]
  },
  {
   "cell_type": "code",
   "execution_count": 11,
   "id": "8e40ed71-2ad4-4185-89e1-d3e7cd72c5a9",
   "metadata": {},
   "outputs": [
    {
     "data": {
      "text/plain": [
       "Product Name\n",
       "Harpic Bathroom Cleaner - Floral         1234963.23\n",
       "Parle Nutricrunch Digestive Cookies      1223761.86\n",
       "Wagh Bakri Masala Tea                    1204179.88\n",
       "Tata Sampann Moong Dal (Pesara Pappu)    1203179.64\n",
       "Tata Tea Chakra Gold Premium Tea         1182818.90\n",
       "Name: MRP, dtype: float64"
      ]
     },
     "execution_count": 11,
     "metadata": {},
     "output_type": "execute_result"
    }
   ],
   "source": [
    "df.groupby(\"Product Name\")[\"MRP\"].sum().sort_values(ascending=False).head(5)"
   ]
  },
  {
   "cell_type": "code",
   "execution_count": 12,
   "id": "e8a7ffbf-0966-43e0-8c99-7392244cd37a",
   "metadata": {},
   "outputs": [
    {
     "data": {
      "text/plain": [
       "State\n",
       "Andhra Pradesh    6271\n",
       "Gujarat           6244\n",
       "Maharashtra       6343\n",
       "Telangana         6142\n",
       "Name: Subscription, dtype: int64"
      ]
     },
     "execution_count": 12,
     "metadata": {},
     "output_type": "execute_result"
    }
   ],
   "source": [
    "df.groupby(\"State\")[\"Subscription\"].count()"
   ]
  },
  {
   "cell_type": "code",
   "execution_count": 13,
   "id": "c0c18d04-e298-408d-aede-6ac161bede84",
   "metadata": {},
   "outputs": [
    {
     "data": {
      "text/plain": [
       "Customer Age\n",
       "32    511\n",
       "30    506\n",
       "25    503\n",
       "45    502\n",
       "59    500\n",
       "Name: Order ID, dtype: int64"
      ]
     },
     "execution_count": 13,
     "metadata": {},
     "output_type": "execute_result"
    }
   ],
   "source": [
    "df.groupby(\"Customer Age\")[\"Order ID\"].count().sort_values(ascending=False).head(5)"
   ]
  },
  {
   "cell_type": "code",
   "execution_count": 14,
   "id": "d2c6bd54-c172-4ad8-af6b-de1decc8aab9",
   "metadata": {},
   "outputs": [],
   "source": [
    "df[\"Order Date\"]=pd.to_datetime(df[\"Order Date\"],errors=\"coerce\")\n",
    "df[\"Delivery Date\"]=pd.to_datetime(df[\"Delivery Date\"],errors=\"coerce\")"
   ]
  },
  {
   "cell_type": "code",
   "execution_count": 15,
   "id": "6fff6e52-0da8-48e5-9b3b-b428591cff57",
   "metadata": {},
   "outputs": [],
   "source": [
    "df[\"Delivery Time\"]=(df[\"Delivery Date\"]-df[\"Order Date\"]).dt.days"
   ]
  },
  {
   "cell_type": "code",
   "execution_count": 16,
   "id": "91f97670-f928-4523-b9ea-0a5721382b32",
   "metadata": {},
   "outputs": [
    {
     "data": {
      "text/plain": [
       "State\n",
       "Maharashtra       11.221224\n",
       "Telangana          8.351417\n",
       "Andhra Pradesh     6.938751\n",
       "Gujarat            3.941176\n",
       "Name: Delivery Time, dtype: float64"
      ]
     },
     "execution_count": 16,
     "metadata": {},
     "output_type": "execute_result"
    }
   ],
   "source": [
    "df.groupby(\"State\")[\"Delivery Time\"].mean().sort_values(ascending=False).head(5)"
   ]
  },
  {
   "cell_type": "code",
   "execution_count": 17,
   "id": "89b08085-d4d2-4c35-922b-3e82001d48e9",
   "metadata": {},
   "outputs": [
    {
     "data": {
      "text/plain": [
       "Index(['Customer ID', 'Product ID', 'Order ID', 'Customer Age', 'Gender',\n",
       "       'Product Name', 'MRP', 'Discount Price', 'Category', 'State', 'City',\n",
       "       'Subscription', 'Bill Number', 'Time Spent on Website', 'Rating',\n",
       "       'Marketing/Advertisement', 'Ship Mode', 'Order Status', 'Order Date',\n",
       "       'Delivery Date', 'Cancellation Date', 'Payment Method', 'Pin Code',\n",
       "       'Total Order Value', 'Payment Status', 'No of Clicks', 'Year', 'Month',\n",
       "       'Shipping Charges', 'Delivery Time'],\n",
       "      dtype='object')"
      ]
     },
     "execution_count": 17,
     "metadata": {},
     "output_type": "execute_result"
    }
   ],
   "source": [
    "df.columns"
   ]
  },
  {
   "cell_type": "code",
   "execution_count": 18,
   "id": "d8e7ffc9-eee7-4720-957d-d08dac1d1ed7",
   "metadata": {},
   "outputs": [
    {
     "data": {
      "text/plain": [
       "City\n",
       "Warangal        3.124804\n",
       "Rajkot          3.111433\n",
       "Ahmedabad       3.082400\n",
       "Khammam         3.070695\n",
       "Vizianagaram    3.042948\n",
       "Name: Rating, dtype: float64"
      ]
     },
     "execution_count": 18,
     "metadata": {},
     "output_type": "execute_result"
    }
   ],
   "source": [
    "df.groupby(\"City\")[\"Rating\"].mean().sort_values(ascending = False).head(5)"
   ]
  },
  {
   "cell_type": "code",
   "execution_count": 19,
   "id": "2d3a42c4-f60c-4198-8ffb-3fb6aa7542a6",
   "metadata": {},
   "outputs": [
    {
     "data": {
      "text/plain": [
       "Marketing/Advertisement\n",
       "Friends      3.037336\n",
       "Facebook     3.011260\n",
       "Instagram    3.007700\n",
       "Other        2.995594\n",
       "TV           2.973911\n",
       "Name: Rating, dtype: float64"
      ]
     },
     "execution_count": 19,
     "metadata": {},
     "output_type": "execute_result"
    }
   ],
   "source": [
    "df.groupby(\"Marketing/Advertisement\")[\"Rating\"].mean().sort_values(ascending=False)"
   ]
  },
  {
   "cell_type": "code",
   "execution_count": 20,
   "id": "b3f37462-560f-45e7-8519-14eda0b3c77c",
   "metadata": {},
   "outputs": [
    {
     "data": {
      "text/plain": [
       "Marketing/Advertisement\n",
       "Instagram    8520\n",
       "Facebook     6252\n",
       "Friends      4122\n",
       "Other        4040\n",
       "TV           2066\n",
       "Name: count, dtype: int64"
      ]
     },
     "execution_count": 20,
     "metadata": {},
     "output_type": "execute_result"
    }
   ],
   "source": [
    "df[\"Marketing/Advertisement\"].value_counts()"
   ]
  },
  {
   "cell_type": "code",
   "execution_count": 21,
   "id": "4aec77fe-cced-485a-bf40-d76433227d1d",
   "metadata": {},
   "outputs": [
    {
     "data": {
      "text/plain": [
       "Index(['Customer ID', 'Product ID', 'Order ID', 'Customer Age', 'Gender',\n",
       "       'Product Name', 'MRP', 'Discount Price', 'Category', 'State', 'City',\n",
       "       'Subscription', 'Bill Number', 'Time Spent on Website', 'Rating',\n",
       "       'Marketing/Advertisement', 'Ship Mode', 'Order Status', 'Order Date',\n",
       "       'Delivery Date', 'Cancellation Date', 'Payment Method', 'Pin Code',\n",
       "       'Total Order Value', 'Payment Status', 'No of Clicks', 'Year', 'Month',\n",
       "       'Shipping Charges', 'Delivery Time'],\n",
       "      dtype='object')"
      ]
     },
     "execution_count": 21,
     "metadata": {},
     "output_type": "execute_result"
    }
   ],
   "source": [
    "df.columns"
   ]
  },
  {
   "cell_type": "code",
   "execution_count": 22,
   "id": "3d6ea3ec-5b0a-4d79-a8ad-856120a1ab41",
   "metadata": {},
   "outputs": [
    {
     "name": "stdout",
     "output_type": "stream",
     "text": [
      "Most Purchased Product Product Name\n",
      "Parle Nutricrunch Digestive Cookies    1212\n",
      "Name: count, dtype: int64\n",
      "Less Purchased Product Product Name\n",
      "VSR Channa Dal    1081\n",
      "Name: count, dtype: int64\n"
     ]
    }
   ],
   "source": [
    "print(\"Most Purchased Product\",df[\"Product Name\"].value_counts().head(1))\n",
    "print(\"Less Purchased Product\",df[\"Product Name\"].value_counts().tail(1))\n"
   ]
  },
  {
   "cell_type": "code",
   "execution_count": 23,
   "id": "5b10c03b-bc98-4dc9-bafb-2fc72ff42290",
   "metadata": {},
   "outputs": [
    {
     "data": {
      "text/plain": [
       "Product Name\n",
       "Amul Taaza Toned Milk                         3.054029\n",
       "Ariel Matic Top Load Liquid Detergent         3.049345\n",
       "Tata Tea Chakra Gold Premium Tea              3.045634\n",
       "Tata Tea                                      3.042256\n",
       "Nimyle Herbal Anti-Bacterial Floor Cleaner    3.037445\n",
       "Name: Rating, dtype: float64"
      ]
     },
     "execution_count": 23,
     "metadata": {},
     "output_type": "execute_result"
    }
   ],
   "source": [
    "df.groupby(\"Product Name\")[\"Rating\"].mean().sort_values(ascending=False).head(5)"
   ]
  },
  {
   "cell_type": "code",
   "execution_count": 24,
   "id": "483e5d9a-2e87-4f49-b696-179b686bc5d4",
   "metadata": {},
   "outputs": [
    {
     "data": {
      "text/plain": [
       "Product Name\n",
       "Amul Butter Unsalted                     20\n",
       "Ariel Matic Top Load Liquid Detergent    17\n",
       "Tata Tea Chakra Gold Premium Tea         17\n",
       "Name: count, dtype: int64"
      ]
     },
     "execution_count": 24,
     "metadata": {},
     "output_type": "execute_result"
    }
   ],
   "source": [
    "df[\"Product Name\"][df[\"Rating\"]==df[\"Rating\"].max()].value_counts().head(3)"
   ]
  },
  {
   "cell_type": "code",
   "execution_count": 25,
   "id": "b8facea1-accc-405f-9636-b390a145e3ed",
   "metadata": {},
   "outputs": [
    {
     "data": {
      "text/plain": [
       "Index(['Customer ID', 'Product ID', 'Order ID', 'Customer Age', 'Gender',\n",
       "       'Product Name', 'MRP', 'Discount Price', 'Category', 'State', 'City',\n",
       "       'Subscription', 'Bill Number', 'Time Spent on Website', 'Rating',\n",
       "       'Marketing/Advertisement', 'Ship Mode', 'Order Status', 'Order Date',\n",
       "       'Delivery Date', 'Cancellation Date', 'Payment Method', 'Pin Code',\n",
       "       'Total Order Value', 'Payment Status', 'No of Clicks', 'Year', 'Month',\n",
       "       'Shipping Charges', 'Delivery Time'],\n",
       "      dtype='object')"
      ]
     },
     "execution_count": 25,
     "metadata": {},
     "output_type": "execute_result"
    }
   ],
   "source": [
    "df.columns"
   ]
  },
  {
   "cell_type": "code",
   "execution_count": 34,
   "id": "e08fdba0-23d2-46a0-bf8c-cb0585daebf4",
   "metadata": {},
   "outputs": [
    {
     "data": {
      "text/plain": [
       "Product Name\n",
       "Pigeon Induction Cooktop Acer Plus: 1800 W    234\n",
       "Ariel Matic Front Load Liquid Detergent       224\n",
       "Tata Sampann Moong Dal (Pesara Pappu)         224\n",
       "Tata Sampann Chana Dal                        223\n",
       "Parle Nutricrunch Digestive Cookies           219\n",
       "Tata Tea Chakra Gold Premium Tea              218\n",
       "Ariel Matic Top Load Liquid Detergent         218\n",
       "Harpic Bathroom Cleaner - Floral              217\n",
       "Tenali Double Horse Chana Dal                 216\n",
       "Amul Taaza Toned Milk                         215\n",
       "Usha Heavy Weight Iron - El3710: 1000 W       215\n",
       "Wagh Bakri Masala Tea                         213\n",
       "Nutri Delite Breakfast Cereal                 213\n",
       "Cavin's Chocolate Milkshake                   209\n",
       "VSR Channa Dal                                207\n",
       "Tata Tea                                      207\n",
       "Premia Tur Dal Latur (Kandi Pappu)            205\n",
       "Nimyle Herbal Anti-Bacterial Floor Cleaner    205\n",
       "Sunfeast Dark Fantasy Yumfills Cake           199\n",
       "Sofit Soya Drink Vanilla                      194\n",
       "Kellogg's Corn Flakes                         192\n",
       "Amul Butter Unsalted                          188\n",
       "Name: count, dtype: int64"
      ]
     },
     "execution_count": 34,
     "metadata": {},
     "output_type": "execute_result"
    }
   ],
   "source": [
    "df[(df[\"No of Clicks\"]>50)&(df[\"No of Clicks\"]<70)][\"Product Name\"].value_counts()"
   ]
  },
  {
   "cell_type": "code",
   "execution_count": 52,
   "id": "34e9859e-34ea-41df-911b-4b4bceaa6c3b",
   "metadata": {},
   "outputs": [
    {
     "data": {
      "text/plain": [
       "np.float64(51.0)"
      ]
     },
     "execution_count": 52,
     "metadata": {},
     "output_type": "execute_result"
    }
   ],
   "source": [
    "df[df[\"Product Name\"]==\"VSR Channa Dal\"][\"No of Clicks\"].median()"
   ]
  },
  {
   "cell_type": "markdown",
   "id": "94bb792f",
   "metadata": {},
   "source": [
    "## Task 6: Correlation Heatmap"
   ]
  },
  {
   "cell_type": "code",
   "execution_count": 26,
   "id": "69a1bb52-caf2-4ad3-a676-e0052ed7ec6c",
   "metadata": {},
   "outputs": [
    {
     "data": {
      "text/plain": [
       "<Axes: >"
      ]
     },
     "execution_count": 26,
     "metadata": {},
     "output_type": "execute_result"
    },
    {
     "data": {
      "image/png": "[encoded data removed]",
      "text/plain": [
       "<Figure size 640x480 with 2 Axes>"
      ]
     },
     "metadata": {},
     "output_type": "display_data"
    }
   ],
   "source": [
    "sns.heatmap(df[[\"MRP\",\"Rating\",\"No of Clicks\",\"Time Spent on Website\"]].corr(numeric_only=True),vmax=1,vmin=-1,annot=True,cmap=\"coolwarm\")"
   ]
  },
  {
   "cell_type": "markdown",
   "id": "0ce2744a",
   "metadata": {},
   "source": [
    "## Task 7: Observations"
   ]
  },
  {
   "cell_type": "markdown",
   "id": "d596f0f1",
   "metadata": {},
   "source": [
    "Write 3-5 key insights you observed from your descriptive analysis."
   ]
  },
  {
   "cell_type": "code",
   "execution_count": null,
   "id": "b5b43c4b-e844-4a22-838c-9125da4ed6e0",
   "metadata": {},
   "outputs": [],
   "source": []
  }
 ],
 "metadata": {
  "kernelspec": {
   "display_name": "Python 3 (ipykernel)",
   "language": "python",
   "name": "python3"
  },
  "language_info": {
   "codemirror_mode": {
    "name": "ipython",
    "version": 3
   },
   "file_extension": ".py",
   "mimetype": "text/x-python",
   "name": "python",
   "nbconvert_exporter": "python",
   "pygments_lexer": "ipython3",
   "version": "3.13.1"
  }
 },
 "nbformat": 4,
 "nbformat_minor": 5
}
